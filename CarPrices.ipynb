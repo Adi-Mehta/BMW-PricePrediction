{
  "nbformat": 4,
  "nbformat_minor": 0,
  "metadata": {
    "colab": {
      "name": "CarPricePredictor.ipynb",
      "version": "0.3.2",
      "provenance": []
    },
    "kernelspec": {
      "name": "python3",
      "display_name": "Python 3"
    }
  },
  "cells": [
    {
      "cell_type": "code",
      "metadata": {
        "id": "Ae_HcJN2xzUu",
        "colab_type": "code",
        "colab": {}
      },
      "source": [
        "import pandas as pd\n",
        "import numpy as np\n",
        "import seaborn as sns\n",
        "import matplotlib.pyplot as plt\n",
        "from sklearn.model_selection import train_test_split\n",
        "from sklearn.metrics import mean_squared_error\n",
        "from sklearn.linear_model import LinearRegression\n",
        "from sklearn.ensemble import RandomForestRegressor\n",
        "from sklearn.preprocessing import scale\n",
        "\n",
        "%matplotlib inline"
      ],
      "execution_count": 0,
      "outputs": []
    },
    {
      "cell_type": "code",
      "metadata": {
        "id": "X6iCjL71zZ80",
        "colab_type": "code",
        "colab": {
          "base_uri": "https://localhost:8080/",
          "height": 35
        },
        "outputId": "209aac25-930d-476d-dae0-88186a123f73"
      },
      "source": [
        "#Was having issues with Jupyter so I used Google Colab\n",
        "url = 'https://raw.githubusercontent.com/Adi-Mehta/PricePredictor/master/test_task.csv?token=AIHNZJNITS6LFMTLC5LT7AC5N4OKK'\n",
        "data = pd.read_csv(url)\n",
        "\n",
        "data.isnull().values.any()    #check for NAN values, which there are none"
      ],
      "execution_count": 154,
      "outputs": [
        {
          "output_type": "execute_result",
          "data": {
            "text/plain": [
              "False"
            ]
          },
          "metadata": {
            "tags": []
          },
          "execution_count": 154
        }
      ]
    },
    {
      "cell_type": "code",
      "metadata": {
        "id": "mmgODrAI1vMa",
        "colab_type": "code",
        "outputId": "8ea3671e-de16-44be-fcab-0d8cb7c2b0f4",
        "colab": {
          "base_uri": "https://localhost:8080/",
          "height": 375
        }
      },
      "source": [
        "data.head(10)"
      ],
      "execution_count": 155,
      "outputs": [
        {
          "output_type": "execute_result",
          "data": {
            "text/html": [
              "<div>\n",
              "<style scoped>\n",
              "    .dataframe tbody tr th:only-of-type {\n",
              "        vertical-align: middle;\n",
              "    }\n",
              "\n",
              "    .dataframe tbody tr th {\n",
              "        vertical-align: top;\n",
              "    }\n",
              "\n",
              "    .dataframe thead th {\n",
              "        text-align: right;\n",
              "    }\n",
              "</style>\n",
              "<table border=\"1\" class=\"dataframe\">\n",
              "  <thead>\n",
              "    <tr style=\"text-align: right;\">\n",
              "      <th></th>\n",
              "      <th>maker_key</th>\n",
              "      <th>model_key</th>\n",
              "      <th>mileage</th>\n",
              "      <th>engine_power</th>\n",
              "      <th>registration_date</th>\n",
              "      <th>fuel</th>\n",
              "      <th>paint_color</th>\n",
              "      <th>car_type</th>\n",
              "      <th>feature_1</th>\n",
              "      <th>feature_2</th>\n",
              "      <th>feature_3</th>\n",
              "      <th>feature_4</th>\n",
              "      <th>feature_5</th>\n",
              "      <th>feature_6</th>\n",
              "      <th>feature_7</th>\n",
              "      <th>feature_8</th>\n",
              "      <th>price</th>\n",
              "    </tr>\n",
              "  </thead>\n",
              "  <tbody>\n",
              "    <tr>\n",
              "      <th>0</th>\n",
              "      <td>BMW</td>\n",
              "      <td>118</td>\n",
              "      <td>140411</td>\n",
              "      <td>100</td>\n",
              "      <td>2012-02-01</td>\n",
              "      <td>diesel</td>\n",
              "      <td>black</td>\n",
              "      <td>convertible</td>\n",
              "      <td>True</td>\n",
              "      <td>True</td>\n",
              "      <td>False</td>\n",
              "      <td>False</td>\n",
              "      <td>True</td>\n",
              "      <td>True</td>\n",
              "      <td>True</td>\n",
              "      <td>False</td>\n",
              "      <td>11300</td>\n",
              "    </tr>\n",
              "    <tr>\n",
              "      <th>1</th>\n",
              "      <td>BMW</td>\n",
              "      <td>M4</td>\n",
              "      <td>13929</td>\n",
              "      <td>317</td>\n",
              "      <td>2016-04-01</td>\n",
              "      <td>petrol</td>\n",
              "      <td>grey</td>\n",
              "      <td>convertible</td>\n",
              "      <td>True</td>\n",
              "      <td>True</td>\n",
              "      <td>False</td>\n",
              "      <td>False</td>\n",
              "      <td>False</td>\n",
              "      <td>True</td>\n",
              "      <td>True</td>\n",
              "      <td>True</td>\n",
              "      <td>69700</td>\n",
              "    </tr>\n",
              "    <tr>\n",
              "      <th>2</th>\n",
              "      <td>BMW</td>\n",
              "      <td>320</td>\n",
              "      <td>183297</td>\n",
              "      <td>120</td>\n",
              "      <td>2012-04-01</td>\n",
              "      <td>diesel</td>\n",
              "      <td>white</td>\n",
              "      <td>convertible</td>\n",
              "      <td>False</td>\n",
              "      <td>False</td>\n",
              "      <td>False</td>\n",
              "      <td>False</td>\n",
              "      <td>True</td>\n",
              "      <td>False</td>\n",
              "      <td>True</td>\n",
              "      <td>False</td>\n",
              "      <td>10200</td>\n",
              "    </tr>\n",
              "    <tr>\n",
              "      <th>3</th>\n",
              "      <td>BMW</td>\n",
              "      <td>420</td>\n",
              "      <td>128035</td>\n",
              "      <td>135</td>\n",
              "      <td>2014-07-01</td>\n",
              "      <td>diesel</td>\n",
              "      <td>red</td>\n",
              "      <td>convertible</td>\n",
              "      <td>True</td>\n",
              "      <td>True</td>\n",
              "      <td>False</td>\n",
              "      <td>False</td>\n",
              "      <td>True</td>\n",
              "      <td>True</td>\n",
              "      <td>True</td>\n",
              "      <td>True</td>\n",
              "      <td>25100</td>\n",
              "    </tr>\n",
              "    <tr>\n",
              "      <th>4</th>\n",
              "      <td>BMW</td>\n",
              "      <td>425</td>\n",
              "      <td>97097</td>\n",
              "      <td>160</td>\n",
              "      <td>2014-12-01</td>\n",
              "      <td>diesel</td>\n",
              "      <td>silver</td>\n",
              "      <td>convertible</td>\n",
              "      <td>True</td>\n",
              "      <td>True</td>\n",
              "      <td>False</td>\n",
              "      <td>False</td>\n",
              "      <td>False</td>\n",
              "      <td>True</td>\n",
              "      <td>True</td>\n",
              "      <td>True</td>\n",
              "      <td>33400</td>\n",
              "    </tr>\n",
              "    <tr>\n",
              "      <th>5</th>\n",
              "      <td>BMW</td>\n",
              "      <td>335</td>\n",
              "      <td>152352</td>\n",
              "      <td>225</td>\n",
              "      <td>2011-05-01</td>\n",
              "      <td>petrol</td>\n",
              "      <td>black</td>\n",
              "      <td>convertible</td>\n",
              "      <td>True</td>\n",
              "      <td>True</td>\n",
              "      <td>False</td>\n",
              "      <td>False</td>\n",
              "      <td>True</td>\n",
              "      <td>True</td>\n",
              "      <td>True</td>\n",
              "      <td>True</td>\n",
              "      <td>17100</td>\n",
              "    </tr>\n",
              "    <tr>\n",
              "      <th>6</th>\n",
              "      <td>BMW</td>\n",
              "      <td>325</td>\n",
              "      <td>205219</td>\n",
              "      <td>145</td>\n",
              "      <td>2009-05-01</td>\n",
              "      <td>diesel</td>\n",
              "      <td>grey</td>\n",
              "      <td>convertible</td>\n",
              "      <td>True</td>\n",
              "      <td>True</td>\n",
              "      <td>False</td>\n",
              "      <td>False</td>\n",
              "      <td>True</td>\n",
              "      <td>True</td>\n",
              "      <td>True</td>\n",
              "      <td>True</td>\n",
              "      <td>12400</td>\n",
              "    </tr>\n",
              "    <tr>\n",
              "      <th>7</th>\n",
              "      <td>BMW</td>\n",
              "      <td>118</td>\n",
              "      <td>115560</td>\n",
              "      <td>105</td>\n",
              "      <td>2009-08-01</td>\n",
              "      <td>petrol</td>\n",
              "      <td>white</td>\n",
              "      <td>convertible</td>\n",
              "      <td>True</td>\n",
              "      <td>True</td>\n",
              "      <td>False</td>\n",
              "      <td>False</td>\n",
              "      <td>False</td>\n",
              "      <td>True</td>\n",
              "      <td>True</td>\n",
              "      <td>False</td>\n",
              "      <td>6100</td>\n",
              "    </tr>\n",
              "    <tr>\n",
              "      <th>8</th>\n",
              "      <td>BMW</td>\n",
              "      <td>Z4</td>\n",
              "      <td>123886</td>\n",
              "      <td>125</td>\n",
              "      <td>2004-07-01</td>\n",
              "      <td>petrol</td>\n",
              "      <td>black</td>\n",
              "      <td>convertible</td>\n",
              "      <td>True</td>\n",
              "      <td>False</td>\n",
              "      <td>False</td>\n",
              "      <td>False</td>\n",
              "      <td>False</td>\n",
              "      <td>True</td>\n",
              "      <td>True</td>\n",
              "      <td>False</td>\n",
              "      <td>6200</td>\n",
              "    </tr>\n",
              "    <tr>\n",
              "      <th>9</th>\n",
              "      <td>BMW</td>\n",
              "      <td>320</td>\n",
              "      <td>139541</td>\n",
              "      <td>135</td>\n",
              "      <td>2013-06-01</td>\n",
              "      <td>diesel</td>\n",
              "      <td>white</td>\n",
              "      <td>convertible</td>\n",
              "      <td>False</td>\n",
              "      <td>False</td>\n",
              "      <td>False</td>\n",
              "      <td>False</td>\n",
              "      <td>True</td>\n",
              "      <td>False</td>\n",
              "      <td>True</td>\n",
              "      <td>False</td>\n",
              "      <td>17300</td>\n",
              "    </tr>\n",
              "  </tbody>\n",
              "</table>\n",
              "</div>"
            ],
            "text/plain": [
              "  maker_key model_key  mileage  ...  feature_7 feature_8  price\n",
              "0       BMW       118   140411  ...       True     False  11300\n",
              "1       BMW        M4    13929  ...       True      True  69700\n",
              "2       BMW       320   183297  ...       True     False  10200\n",
              "3       BMW       420   128035  ...       True      True  25100\n",
              "4       BMW       425    97097  ...       True      True  33400\n",
              "5       BMW       335   152352  ...       True      True  17100\n",
              "6       BMW       325   205219  ...       True      True  12400\n",
              "7       BMW       118   115560  ...       True     False   6100\n",
              "8       BMW        Z4   123886  ...       True     False   6200\n",
              "9       BMW       320   139541  ...       True     False  17300\n",
              "\n",
              "[10 rows x 17 columns]"
            ]
          },
          "metadata": {
            "tags": []
          },
          "execution_count": 155
        }
      ]
    },
    {
      "cell_type": "code",
      "metadata": {
        "id": "_tM9ASh24QGw",
        "colab_type": "code",
        "colab": {
          "base_uri": "https://localhost:8080/",
          "height": 222
        },
        "outputId": "635b3aca-072f-4273-c464-c4f500ee27cd"
      },
      "source": [
        "data.registration_date = data.registration_date.str[:4] #would like to change registration_date to just year\n",
        "data.rename(columns={'registration_date':'year'}, inplace =True)    #change reg date title to just year\n",
        "data=data.drop(['maker_key','model_key'],axis=1)   #remove maker key since they are all BMW and Model is useless in this instance\n",
        "data.head()"
      ],
      "execution_count": 156,
      "outputs": [
        {
          "output_type": "execute_result",
          "data": {
            "text/html": [
              "<div>\n",
              "<style scoped>\n",
              "    .dataframe tbody tr th:only-of-type {\n",
              "        vertical-align: middle;\n",
              "    }\n",
              "\n",
              "    .dataframe tbody tr th {\n",
              "        vertical-align: top;\n",
              "    }\n",
              "\n",
              "    .dataframe thead th {\n",
              "        text-align: right;\n",
              "    }\n",
              "</style>\n",
              "<table border=\"1\" class=\"dataframe\">\n",
              "  <thead>\n",
              "    <tr style=\"text-align: right;\">\n",
              "      <th></th>\n",
              "      <th>mileage</th>\n",
              "      <th>engine_power</th>\n",
              "      <th>year</th>\n",
              "      <th>fuel</th>\n",
              "      <th>paint_color</th>\n",
              "      <th>car_type</th>\n",
              "      <th>feature_1</th>\n",
              "      <th>feature_2</th>\n",
              "      <th>feature_3</th>\n",
              "      <th>feature_4</th>\n",
              "      <th>feature_5</th>\n",
              "      <th>feature_6</th>\n",
              "      <th>feature_7</th>\n",
              "      <th>feature_8</th>\n",
              "      <th>price</th>\n",
              "    </tr>\n",
              "  </thead>\n",
              "  <tbody>\n",
              "    <tr>\n",
              "      <th>0</th>\n",
              "      <td>140411</td>\n",
              "      <td>100</td>\n",
              "      <td>2012</td>\n",
              "      <td>diesel</td>\n",
              "      <td>black</td>\n",
              "      <td>convertible</td>\n",
              "      <td>True</td>\n",
              "      <td>True</td>\n",
              "      <td>False</td>\n",
              "      <td>False</td>\n",
              "      <td>True</td>\n",
              "      <td>True</td>\n",
              "      <td>True</td>\n",
              "      <td>False</td>\n",
              "      <td>11300</td>\n",
              "    </tr>\n",
              "    <tr>\n",
              "      <th>1</th>\n",
              "      <td>13929</td>\n",
              "      <td>317</td>\n",
              "      <td>2016</td>\n",
              "      <td>petrol</td>\n",
              "      <td>grey</td>\n",
              "      <td>convertible</td>\n",
              "      <td>True</td>\n",
              "      <td>True</td>\n",
              "      <td>False</td>\n",
              "      <td>False</td>\n",
              "      <td>False</td>\n",
              "      <td>True</td>\n",
              "      <td>True</td>\n",
              "      <td>True</td>\n",
              "      <td>69700</td>\n",
              "    </tr>\n",
              "    <tr>\n",
              "      <th>2</th>\n",
              "      <td>183297</td>\n",
              "      <td>120</td>\n",
              "      <td>2012</td>\n",
              "      <td>diesel</td>\n",
              "      <td>white</td>\n",
              "      <td>convertible</td>\n",
              "      <td>False</td>\n",
              "      <td>False</td>\n",
              "      <td>False</td>\n",
              "      <td>False</td>\n",
              "      <td>True</td>\n",
              "      <td>False</td>\n",
              "      <td>True</td>\n",
              "      <td>False</td>\n",
              "      <td>10200</td>\n",
              "    </tr>\n",
              "    <tr>\n",
              "      <th>3</th>\n",
              "      <td>128035</td>\n",
              "      <td>135</td>\n",
              "      <td>2014</td>\n",
              "      <td>diesel</td>\n",
              "      <td>red</td>\n",
              "      <td>convertible</td>\n",
              "      <td>True</td>\n",
              "      <td>True</td>\n",
              "      <td>False</td>\n",
              "      <td>False</td>\n",
              "      <td>True</td>\n",
              "      <td>True</td>\n",
              "      <td>True</td>\n",
              "      <td>True</td>\n",
              "      <td>25100</td>\n",
              "    </tr>\n",
              "    <tr>\n",
              "      <th>4</th>\n",
              "      <td>97097</td>\n",
              "      <td>160</td>\n",
              "      <td>2014</td>\n",
              "      <td>diesel</td>\n",
              "      <td>silver</td>\n",
              "      <td>convertible</td>\n",
              "      <td>True</td>\n",
              "      <td>True</td>\n",
              "      <td>False</td>\n",
              "      <td>False</td>\n",
              "      <td>False</td>\n",
              "      <td>True</td>\n",
              "      <td>True</td>\n",
              "      <td>True</td>\n",
              "      <td>33400</td>\n",
              "    </tr>\n",
              "  </tbody>\n",
              "</table>\n",
              "</div>"
            ],
            "text/plain": [
              "   mileage  engine_power  year    fuel  ... feature_6 feature_7  feature_8  price\n",
              "0   140411           100  2012  diesel  ...      True      True      False  11300\n",
              "1    13929           317  2016  petrol  ...      True      True       True  69700\n",
              "2   183297           120  2012  diesel  ...     False      True      False  10200\n",
              "3   128035           135  2014  diesel  ...      True      True       True  25100\n",
              "4    97097           160  2014  diesel  ...      True      True       True  33400\n",
              "\n",
              "[5 rows x 15 columns]"
            ]
          },
          "metadata": {
            "tags": []
          },
          "execution_count": 156
        }
      ]
    },
    {
      "cell_type": "code",
      "metadata": {
        "id": "UIECs8MXRC-b",
        "colab_type": "code",
        "outputId": "142f0c32-a57b-4db4-ceb0-c9f9fffb0407",
        "colab": {
          "base_uri": "https://localhost:8080/",
          "height": 519
        }
      },
      "source": [
        "columns =[\"price\",\"mileage\",\"engine_power\",\"year\",\"fuel\",\"paint_color\",\"car_type\", \"feature_1\",\"feature_2\",\"feature_3\",\"feature_4\",\"feature_5\",\"feature_8\"]\n",
        "sns.heatmap(data[columns].corr(),annot=True)    #feature 6 and 7 have low correlation values so I dropped them\n",
        "\n",
        "sns.pairplot(data, \n",
        "             x_vars=[\"mileage\",\"engine_power\",'feature_8'], \n",
        "             y_vars=[\"price\"],    #determining what variables affect price the most\n",
        "             )"
      ],
      "execution_count": 157,
      "outputs": [
        {
          "output_type": "execute_result",
          "data": {
            "text/plain": [
              "<seaborn.axisgrid.PairGrid at 0x7f029b591e80>"
            ]
          },
          "metadata": {
            "tags": []
          },
          "execution_count": 157
        },
        {
          "output_type": "display_data",
          "data": {
            "image/png": "[encoded data removed]",
            "text/plain": [
              "<Figure size 432x288 with 2 Axes>"
            ]
          },
          "metadata": {
            "tags": []
          }
        },
        {
          "output_type": "display_data",
          "data": {
            "image/png": "[encoded data removed]",
            "text/plain": [
              "<Figure size 540x180 with 3 Axes>"
            ]
          },
          "metadata": {
            "tags": []
          }
        }
      ]
    },
    {
      "cell_type": "code",
      "metadata": {
        "id": "eaHIShk8UHr2",
        "colab_type": "code",
        "outputId": "3390a9e0-bada-4278-f07b-f8389f2331d3",
        "colab": {
          "base_uri": "https://localhost:8080/",
          "height": 222
        }
      },
      "source": [
        "df = pd.get_dummies(data=data, columns=[\"fuel\",\"paint_color\",\"car_type\"])    #to address categorical variables I created dummy variables\n",
        "df.head()"
      ],
      "execution_count": 158,
      "outputs": [
        {
          "output_type": "execute_result",
          "data": {
            "text/html": [
              "<div>\n",
              "<style scoped>\n",
              "    .dataframe tbody tr th:only-of-type {\n",
              "        vertical-align: middle;\n",
              "    }\n",
              "\n",
              "    .dataframe tbody tr th {\n",
              "        vertical-align: top;\n",
              "    }\n",
              "\n",
              "    .dataframe thead th {\n",
              "        text-align: right;\n",
              "    }\n",
              "</style>\n",
              "<table border=\"1\" class=\"dataframe\">\n",
              "  <thead>\n",
              "    <tr style=\"text-align: right;\">\n",
              "      <th></th>\n",
              "      <th>mileage</th>\n",
              "      <th>engine_power</th>\n",
              "      <th>year</th>\n",
              "      <th>feature_1</th>\n",
              "      <th>feature_2</th>\n",
              "      <th>feature_3</th>\n",
              "      <th>feature_4</th>\n",
              "      <th>feature_5</th>\n",
              "      <th>feature_6</th>\n",
              "      <th>feature_7</th>\n",
              "      <th>feature_8</th>\n",
              "      <th>price</th>\n",
              "      <th>fuel_diesel</th>\n",
              "      <th>fuel_electro</th>\n",
              "      <th>fuel_hybrid_petrol</th>\n",
              "      <th>fuel_petrol</th>\n",
              "      <th>paint_color_beige</th>\n",
              "      <th>paint_color_black</th>\n",
              "      <th>paint_color_blue</th>\n",
              "      <th>paint_color_brown</th>\n",
              "      <th>paint_color_green</th>\n",
              "      <th>paint_color_grey</th>\n",
              "      <th>paint_color_orange</th>\n",
              "      <th>paint_color_red</th>\n",
              "      <th>paint_color_silver</th>\n",
              "      <th>paint_color_white</th>\n",
              "      <th>car_type_convertible</th>\n",
              "      <th>car_type_coupe</th>\n",
              "      <th>car_type_estate</th>\n",
              "      <th>car_type_hatchback</th>\n",
              "      <th>car_type_sedan</th>\n",
              "      <th>car_type_subcompact</th>\n",
              "      <th>car_type_suv</th>\n",
              "      <th>car_type_van</th>\n",
              "    </tr>\n",
              "  </thead>\n",
              "  <tbody>\n",
              "    <tr>\n",
              "      <th>0</th>\n",
              "      <td>140411</td>\n",
              "      <td>100</td>\n",
              "      <td>2012</td>\n",
              "      <td>True</td>\n",
              "      <td>True</td>\n",
              "      <td>False</td>\n",
              "      <td>False</td>\n",
              "      <td>True</td>\n",
              "      <td>True</td>\n",
              "      <td>True</td>\n",
              "      <td>False</td>\n",
              "      <td>11300</td>\n",
              "      <td>1</td>\n",
              "      <td>0</td>\n",
              "      <td>0</td>\n",
              "      <td>0</td>\n",
              "      <td>0</td>\n",
              "      <td>1</td>\n",
              "      <td>0</td>\n",
              "      <td>0</td>\n",
              "      <td>0</td>\n",
              "      <td>0</td>\n",
              "      <td>0</td>\n",
              "      <td>0</td>\n",
              "      <td>0</td>\n",
              "      <td>0</td>\n",
              "      <td>1</td>\n",
              "      <td>0</td>\n",
              "      <td>0</td>\n",
              "      <td>0</td>\n",
              "      <td>0</td>\n",
              "      <td>0</td>\n",
              "      <td>0</td>\n",
              "      <td>0</td>\n",
              "    </tr>\n",
              "    <tr>\n",
              "      <th>1</th>\n",
              "      <td>13929</td>\n",
              "      <td>317</td>\n",
              "      <td>2016</td>\n",
              "      <td>True</td>\n",
              "      <td>True</td>\n",
              "      <td>False</td>\n",
              "      <td>False</td>\n",
              "      <td>False</td>\n",
              "      <td>True</td>\n",
              "      <td>True</td>\n",
              "      <td>True</td>\n",
              "      <td>69700</td>\n",
              "      <td>0</td>\n",
              "      <td>0</td>\n",
              "      <td>0</td>\n",
              "      <td>1</td>\n",
              "      <td>0</td>\n",
              "      <td>0</td>\n",
              "      <td>0</td>\n",
              "      <td>0</td>\n",
              "      <td>0</td>\n",
              "      <td>1</td>\n",
              "      <td>0</td>\n",
              "      <td>0</td>\n",
              "      <td>0</td>\n",
              "      <td>0</td>\n",
              "      <td>1</td>\n",
              "      <td>0</td>\n",
              "      <td>0</td>\n",
              "      <td>0</td>\n",
              "      <td>0</td>\n",
              "      <td>0</td>\n",
              "      <td>0</td>\n",
              "      <td>0</td>\n",
              "    </tr>\n",
              "    <tr>\n",
              "      <th>2</th>\n",
              "      <td>183297</td>\n",
              "      <td>120</td>\n",
              "      <td>2012</td>\n",
              "      <td>False</td>\n",
              "      <td>False</td>\n",
              "      <td>False</td>\n",
              "      <td>False</td>\n",
              "      <td>True</td>\n",
              "      <td>False</td>\n",
              "      <td>True</td>\n",
              "      <td>False</td>\n",
              "      <td>10200</td>\n",
              "      <td>1</td>\n",
              "      <td>0</td>\n",
              "      <td>0</td>\n",
              "      <td>0</td>\n",
              "      <td>0</td>\n",
              "      <td>0</td>\n",
              "      <td>0</td>\n",
              "      <td>0</td>\n",
              "      <td>0</td>\n",
              "      <td>0</td>\n",
              "      <td>0</td>\n",
              "      <td>0</td>\n",
              "      <td>0</td>\n",
              "      <td>1</td>\n",
              "      <td>1</td>\n",
              "      <td>0</td>\n",
              "      <td>0</td>\n",
              "      <td>0</td>\n",
              "      <td>0</td>\n",
              "      <td>0</td>\n",
              "      <td>0</td>\n",
              "      <td>0</td>\n",
              "    </tr>\n",
              "    <tr>\n",
              "      <th>3</th>\n",
              "      <td>128035</td>\n",
              "      <td>135</td>\n",
              "      <td>2014</td>\n",
              "      <td>True</td>\n",
              "      <td>True</td>\n",
              "      <td>False</td>\n",
              "      <td>False</td>\n",
              "      <td>True</td>\n",
              "      <td>True</td>\n",
              "      <td>True</td>\n",
              "      <td>True</td>\n",
              "      <td>25100</td>\n",
              "      <td>1</td>\n",
              "      <td>0</td>\n",
              "      <td>0</td>\n",
              "      <td>0</td>\n",
              "      <td>0</td>\n",
              "      <td>0</td>\n",
              "      <td>0</td>\n",
              "      <td>0</td>\n",
              "      <td>0</td>\n",
              "      <td>0</td>\n",
              "      <td>0</td>\n",
              "      <td>1</td>\n",
              "      <td>0</td>\n",
              "      <td>0</td>\n",
              "      <td>1</td>\n",
              "      <td>0</td>\n",
              "      <td>0</td>\n",
              "      <td>0</td>\n",
              "      <td>0</td>\n",
              "      <td>0</td>\n",
              "      <td>0</td>\n",
              "      <td>0</td>\n",
              "    </tr>\n",
              "    <tr>\n",
              "      <th>4</th>\n",
              "      <td>97097</td>\n",
              "      <td>160</td>\n",
              "      <td>2014</td>\n",
              "      <td>True</td>\n",
              "      <td>True</td>\n",
              "      <td>False</td>\n",
              "      <td>False</td>\n",
              "      <td>False</td>\n",
              "      <td>True</td>\n",
              "      <td>True</td>\n",
              "      <td>True</td>\n",
              "      <td>33400</td>\n",
              "      <td>1</td>\n",
              "      <td>0</td>\n",
              "      <td>0</td>\n",
              "      <td>0</td>\n",
              "      <td>0</td>\n",
              "      <td>0</td>\n",
              "      <td>0</td>\n",
              "      <td>0</td>\n",
              "      <td>0</td>\n",
              "      <td>0</td>\n",
              "      <td>0</td>\n",
              "      <td>0</td>\n",
              "      <td>1</td>\n",
              "      <td>0</td>\n",
              "      <td>1</td>\n",
              "      <td>0</td>\n",
              "      <td>0</td>\n",
              "      <td>0</td>\n",
              "      <td>0</td>\n",
              "      <td>0</td>\n",
              "      <td>0</td>\n",
              "      <td>0</td>\n",
              "    </tr>\n",
              "  </tbody>\n",
              "</table>\n",
              "</div>"
            ],
            "text/plain": [
              "   mileage  engine_power  year  ...  car_type_subcompact  car_type_suv  car_type_van\n",
              "0   140411           100  2012  ...                    0             0             0\n",
              "1    13929           317  2016  ...                    0             0             0\n",
              "2   183297           120  2012  ...                    0             0             0\n",
              "3   128035           135  2014  ...                    0             0             0\n",
              "4    97097           160  2014  ...                    0             0             0\n",
              "\n",
              "[5 rows x 34 columns]"
            ]
          },
          "metadata": {
            "tags": []
          },
          "execution_count": 158
        }
      ]
    },
    {
      "cell_type": "code",
      "metadata": {
        "id": "iZeGYjqCcR_i",
        "colab_type": "code",
        "colab": {}
      },
      "source": [
        "X = df.drop(['price'],axis=1)   #remove price from df and scale\n",
        "X= scale(X)\n",
        "Y=df['price']    #price is our Y varoalbe"
      ],
      "execution_count": 0,
      "outputs": []
    },
    {
      "cell_type": "code",
      "metadata": {
        "id": "_WieUXEIsgG7",
        "colab_type": "code",
        "colab": {
          "base_uri": "https://localhost:8080/",
          "height": 35
        },
        "outputId": "5d2875aa-4004-4e3a-ef28-b2b7ea5b06b8"
      },
      "source": [
        "X_train,X_test, y_train, y_test = train_test_split(X,Y, test_size=.3, random_state=0)\n",
        "regressor=LinearRegression()    #wanted to try a basic linear regression first\n",
        "regressor.fit(X_train, y_train)"
      ],
      "execution_count": 160,
      "outputs": [
        {
          "output_type": "execute_result",
          "data": {
            "text/plain": [
              "LinearRegression(copy_X=True, fit_intercept=True, n_jobs=None, normalize=False)"
            ]
          },
          "metadata": {
            "tags": []
          },
          "execution_count": 160
        }
      ]
    },
    {
      "cell_type": "code",
      "metadata": {
        "id": "OmNfqR6Nt1sG",
        "colab_type": "code",
        "colab": {
          "base_uri": "https://localhost:8080/",
          "height": 52
        },
        "outputId": "7abaec87-0765-43ff-8039-173d46398e35"
      },
      "source": [
        "y_pred=regressor.predict(X_test)\n",
        "print(\"Linear Regression R-squared score: {}\".format(regressor.score(X_test, y_test)))\n",
        "\n",
        "print(\"RMSE score: {}\".format(np.sqrt(mean_squared_error(y_pred,y_test))))    #within $4564 of each test value"
      ],
      "execution_count": 161,
      "outputs": [
        {
          "output_type": "stream",
          "text": [
            "Linear Regression R-squared score: 0.7296606534256603\n",
            "RMSE score: 4564.19340947677\n"
          ],
          "name": "stdout"
        }
      ]
    },
    {
      "cell_type": "code",
      "metadata": {
        "id": "Y_32PCAQwsfR",
        "colab_type": "code",
        "colab": {
          "base_uri": "https://localhost:8080/",
          "height": 193
        },
        "outputId": "8db710c4-5573-4339-9f68-bc1254233cb7"
      },
      "source": [
        "rf = RandomForestRegressor(random_state=42)\n",
        "rf.fit(X_train, y_train)"
      ],
      "execution_count": 166,
      "outputs": [
        {
          "output_type": "stream",
          "text": [
            "/usr/local/lib/python3.6/dist-packages/sklearn/ensemble/forest.py:245: FutureWarning: The default value of n_estimators will change from 10 in version 0.20 to 100 in 0.22.\n",
            "  \"10 in version 0.20 to 100 in 0.22.\", FutureWarning)\n"
          ],
          "name": "stderr"
        },
        {
          "output_type": "execute_result",
          "data": {
            "text/plain": [
              "RandomForestRegressor(bootstrap=True, criterion='mse', max_depth=None,\n",
              "                      max_features='auto', max_leaf_nodes=None,\n",
              "                      min_impurity_decrease=0.0, min_impurity_split=None,\n",
              "                      min_samples_leaf=1, min_samples_split=2,\n",
              "                      min_weight_fraction_leaf=0.0, n_estimators=10,\n",
              "                      n_jobs=None, oob_score=False, random_state=32, verbose=0,\n",
              "                      warm_start=False)"
            ]
          },
          "metadata": {
            "tags": []
          },
          "execution_count": 166
        }
      ]
    },
    {
      "cell_type": "code",
      "metadata": {
        "id": "6ARYhoRqw_VD",
        "colab_type": "code",
        "colab": {
          "base_uri": "https://localhost:8080/",
          "height": 52
        },
        "outputId": "8265d1c9-8836-408d-a102-701b4e89a026"
      },
      "source": [
        "y_pred=rf.predict(X_test)\n",
        "print(\"Random Forest Regression R-squared score: {}\".format(rf.score(X_test, y_test)))\n",
        "\n",
        "print(\"RMSE score: {}\".format(np.sqrt(mean_squared_error(y_pred,y_test))))    #within 3546 of all cars in test set"
      ],
      "execution_count": 167,
      "outputs": [
        {
          "output_type": "stream",
          "text": [
            "Random Forest Regression R-squared score: 0.8339542026781271\n",
            "RMSE score: 3577.0363511045275\n"
          ],
          "name": "stdout"
        }
      ]
    },
    {
      "cell_type": "code",
      "metadata": {
        "id": "KcjFbVifz4gF",
        "colab_type": "code",
        "colab": {
          "base_uri": "https://localhost:8080/",
          "height": 585
        },
        "outputId": "3b7f894b-866d-420c-bbd7-67bc20a4fc1a"
      },
      "source": [
        "#Using the RF model\n",
        "plt.figure(figsize=(10,9))\n",
        "plt.scatter(y_pred, y_test)\n",
        "plt.xlabel('Predicted')\n",
        "plt.ylabel('Real')\n",
        "plt.title(\"Random Forest\")"
      ],
      "execution_count": 165,
      "outputs": [
        {
          "output_type": "execute_result",
          "data": {
            "text/plain": [
              "Text(0.5, 1.0, 'Random Forest')"
            ]
          },
          "metadata": {
            "tags": []
          },
          "execution_count": 165
        },
        {
          "output_type": "display_data",
          "data": {
            "image/png": "[encoded data removed]",
            "text/plain": [
              "<Figure size 720x648 with 1 Axes>"
            ]
          },
          "metadata": {
            "tags": []
          }
        }
      ]
    }
  ]
}